{
 "cells": [
  {
   "cell_type": "code",
   "execution_count": 4,
   "metadata": {},
   "outputs": [],
   "source": [
    "from evolution import genetic_algorithm as ga\n",
    "import numpy as np\n",
    "import string"
   ]
  },
  {
   "cell_type": "code",
   "execution_count": 15,
   "metadata": {},
   "outputs": [
    {
     "name": "stdout",
     "output_type": "stream",
     "text": [
      "Nor5oC0QpgYE8IijkH1vw08ZBB1ORFRJ6X5I1\n"
     ]
    }
   ],
   "source": [
    "char_set = string.ascii_letters + string.digits\n",
    "\n",
    "length = 37\n",
    "\n",
    "random_string = ''.join(np.random.choice(list(char_set), size=length))\n",
    "\n",
    "print(random_string)"
   ]
  },
  {
   "cell_type": "code",
   "execution_count": 64,
   "metadata": {},
   "outputs": [
    {
     "name": "stdout",
     "output_type": "stream",
     "text": [
      "6OW0Fu5xIlrr1AL9seHb5OrizmmjU815r2Rz0 1484\n",
      "OjazC8yOiOLW16rHzBv0ms50U9dfjxXYU929u 1521\n"
     ]
    }
   ],
   "source": [
    "goal = \"Não, não sei não, to sem criatividade\"\n",
    "\n",
    "def generator():\n",
    "    length = len(goal)\n",
    "    return ''.join(np.random.choice(list(char_set), size=length))\n",
    "\n",
    "def dist(candidate):\n",
    "    d = 0\n",
    "    for i,c in enumerate(candidate):\n",
    "        d+=abs(ord(c)-ord(goal[i]))\n",
    "    \n",
    "    return d\n",
    "\n",
    "s1 = generator()\n",
    "s2 = generator()\n",
    "\n",
    "print(s1,dist(s1))\n",
    "print(s2,dist(s2))\n",
    "\n",
    "\n",
    "#ind = ga.Ind()"
   ]
  }
 ],
 "metadata": {
  "kernelspec": {
   "display_name": "venv",
   "language": "python",
   "name": "python3"
  },
  "language_info": {
   "codemirror_mode": {
    "name": "ipython",
    "version": 3
   },
   "file_extension": ".py",
   "mimetype": "text/x-python",
   "name": "python",
   "nbconvert_exporter": "python",
   "pygments_lexer": "ipython3",
   "version": "3.10.7"
  }
 },
 "nbformat": 4,
 "nbformat_minor": 2
}
