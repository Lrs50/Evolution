{
 "cells": [
  {
   "cell_type": "code",
   "execution_count": 41,
   "metadata": {},
   "outputs": [],
   "source": [
    "# python setup.py bdist_wheel\n",
    "# pip install -e .\n",
    "\n",
    "\n",
    "from evolution import genetic_algorithm as ga\n",
    "import numpy as np\n",
    "import string\n",
    "from copy import copy"
   ]
  },
  {
   "cell_type": "code",
   "execution_count": 85,
   "metadata": {},
   "outputs": [],
   "source": [
    "import numpy as np\n",
    "\n",
    "\n",
    "class Ind(object):\n",
    "    def __init__(self,custom_genetator=None,metric=None,copy=False,custom_mutation=None,view=None):\n",
    "        \n",
    "        self._gene           = None\n",
    "        self.generator       = custom_genetator\n",
    "        self.metric          = metric\n",
    "        self._fitness        = None  \n",
    "        self.custom_mutation = custom_mutation\n",
    "        self.view            = view\n",
    "        if not copy:\n",
    "            self._gene       = self.generate()\n",
    "\n",
    "    def generate(self,type=None):\n",
    "        if self.generator:\n",
    "            return self.generator()\n",
    "        \n",
    "    @property\n",
    "    def fitness(self):\n",
    "        if self._fitness == None:\n",
    "            self.get_fitness() \n",
    "            \n",
    "        return self._fitness\n",
    "\n",
    "    @property\n",
    "    def gene(self):\n",
    "        if self._gene:\n",
    "            return self._gene\n",
    "        else:\n",
    "            return \"No genome Available\"\n",
    "        \n",
    "    def get_fitness(self):\n",
    "        self._fitness = self.metric(self._gene)\n",
    "        \n",
    "    \n",
    "    def mutate(self,prob = 1.0,type = \"Random Change\"):\n",
    "        if np.random.rand() < prob:\n",
    "            if self.custom_mutation:\n",
    "                self._gene = self.custom_mutation(self._gene)\n",
    "\n",
    "            self._fitness = None\n",
    "        \n",
    "        return self\n",
    "    \n",
    "    def copy(self):\n",
    "        c = Ind(copy=True)\n",
    "        c._gene           = self._gene\n",
    "        c.generator       = self.generator\n",
    "        c.metric          = self.metric\n",
    "        c._fitness        = self._fitness  \n",
    "        c.custom_mutation = self.custom_mutation\n",
    "        c.view            = self.view\n",
    "\n",
    "        return c\n",
    "\n",
    "\n",
    "    def crossover(self,dad,type = \"Random Mix\"):\n",
    "        new_gene = None\n",
    "        if type == \"Random Mix\":\n",
    "            choice = np.random.randint(2, size=len(self._gene))\n",
    "\n",
    "            new_gene = []\n",
    "\n",
    "            for i,c in enumerate(choice):\n",
    "                if c:\n",
    "                    new_gene.append(self._gene[i])\n",
    "                else:\n",
    "                    new_gene.append(dad._gene[i])\n",
    "\n",
    "\n",
    "        child = self.copy()\n",
    "\n",
    "        child._gene = new_gene\n",
    "\n",
    "        return child\n",
    "\n",
    "    def __repr__(self):\n",
    "        return self.view(self._gene)\n"
   ]
  },
  {
   "cell_type": "code",
   "execution_count": 34,
   "metadata": {},
   "outputs": [
    {
     "data": {
      "text/plain": [
       "3"
      ]
     },
     "execution_count": 34,
     "metadata": {},
     "output_type": "execute_result"
    }
   ],
   "source": [
    "np.random.randint(100)"
   ]
  },
  {
   "cell_type": "code",
   "execution_count": 87,
   "metadata": {},
   "outputs": [
    {
     "name": "stdout",
     "output_type": "stream",
     "text": [
      "k1j36roBLWh9ZDe8oDnjCQE6T9DVnhUMViZTh 1375\n",
      "w4bUCIhdNEvP2n25GQ2ncIgxIeVv17z4N5SOL 1538\n",
      "w4b36rhBLWv92D28GD2nCQE6IeVv1hUMV5SOL 1375\n"
     ]
    }
   ],
   "source": [
    "char_set = string.ascii_letters + string.digits\n",
    "\n",
    "goal = \"Não, não sei não, to sem criatividade\"\n",
    "\n",
    "def generator():\n",
    "    length = len(goal)\n",
    "    return ''.join(np.random.choice(list(char_set), size=length))\n",
    "\n",
    "def dist(candidate):\n",
    "    d = 0\n",
    "    for i,c in enumerate(candidate):\n",
    "        d+=abs(ord(c)-ord(goal[i]))\n",
    "    \n",
    "    return d\n",
    "\n",
    "def mutate(candidate):\n",
    "    flip = flip = np.random.randint(-10, 10)\n",
    "    pos = np.random.randint(len(goal))\n",
    "\n",
    "    candidate_list = list(candidate)\n",
    "\n",
    "    candidate_list[pos] = chr(abs((flip + ord(candidate_list[pos]))))\n",
    "\n",
    "    return ''.join(candidate_list)\n",
    "\n",
    "def view(candidate):\n",
    "    return ''.join(candidate)\n",
    "\n",
    "ind1 = Ind(custom_genetator = generator,\n",
    "                    metric  = dist,\n",
    "            custom_mutation = mutate,\n",
    "                       view = view)\n",
    "\n",
    "ind2 = Ind(custom_genetator = generator,\n",
    "                    metric  = dist,\n",
    "            custom_mutation = mutate,\n",
    "                       view = view)\n",
    "\n",
    "print(ind1,ind1.fitness)\n",
    "print(ind2,ind2.fitness)\n",
    "\n",
    "ind3 = ind1.crossover(ind2)\n",
    "print(ind3,ind3.fitness)\n"
   ]
  }
 ],
 "metadata": {
  "kernelspec": {
   "display_name": "venv",
   "language": "python",
   "name": "python3"
  },
  "language_info": {
   "codemirror_mode": {
    "name": "ipython",
    "version": 3
   },
   "file_extension": ".py",
   "mimetype": "text/x-python",
   "name": "python",
   "nbconvert_exporter": "python",
   "pygments_lexer": "ipython3",
   "version": "3.11.9"
  }
 },
 "nbformat": 4,
 "nbformat_minor": 2
}
